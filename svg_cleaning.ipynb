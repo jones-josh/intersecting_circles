{
 "cells": [
  {
   "cell_type": "code",
   "execution_count": 1,
   "id": "a4f984e9-6bc9-4d3d-b31f-1e5f1fab7aca",
   "metadata": {},
   "outputs": [],
   "source": [
    "import xml.etree.ElementTree as ET\n",
    "from dataclasses import dataclass\n",
    "from math import sqrt"
   ]
  },
  {
   "cell_type": "markdown",
   "id": "900469ee-6298-4319-b5ca-e440ed70dd40",
   "metadata": {},
   "source": [
    "# Parsing raw file"
   ]
  },
  {
   "cell_type": "code",
   "execution_count": 2,
   "id": "b6823502-7bc3-49c5-8cef-110e5b162707",
   "metadata": {},
   "outputs": [],
   "source": [
    "tree = ET.parse('res/n4-all-raw.svg')\n",
    "root = tree.getroot()"
   ]
  },
  {
   "cell_type": "code",
   "execution_count": 3,
   "id": "9a57185c-5bbb-4f39-a61a-3804d802569d",
   "metadata": {},
   "outputs": [],
   "source": [
    "def tagFromElement(e):\n",
    "    return e.tag.split('}')[-1]"
   ]
  },
  {
   "cell_type": "code",
   "execution_count": 4,
   "id": "ef36428b-c4b3-4c9f-9786-ecbd7c4fdd1e",
   "metadata": {},
   "outputs": [],
   "source": [
    "def getFloat(element, tag):\n",
    "    return float(element.attrib[tag].replace('mm', ''))\n",
    "\n",
    "def getString(element, tag):\n",
    "    return element.attrib[tag]"
   ]
  },
  {
   "cell_type": "code",
   "execution_count": 5,
   "id": "ffcf6f95-619b-4654-aaf4-a47e27094f0d",
   "metadata": {},
   "outputs": [],
   "source": [
    "# https://developer.mozilla.org/en-US/docs/Web/SVG/Reference/Attribute/transform\n",
    "def applyTransform(matrix, circle):\n",
    "    x, y, r = circle\n",
    "    [a, b, c, d, e, f] = matrix\n",
    "    scale_x = sqrt(a*a + c*c)\n",
    "    scale_y = sqrt(b*b + d*d)\n",
    "    assert abs(scale_x - scale_y) < 0.01\n",
    "    return (a*x + c*y + e, b*x + d*y + f, scale_x * r)"
   ]
  },
  {
   "cell_type": "code",
   "execution_count": 6,
   "id": "e552578e-d436-4d1d-a952-496e9241f38f",
   "metadata": {},
   "outputs": [],
   "source": [
    "def groupToCircles(groupElement):\n",
    "    transformMatrix = [1, 0, 0, 1, 0, 0]\n",
    "    if 'transform' in groupElement.attrib:\n",
    "        transform = getString(groupElement, 'transform')\n",
    "        if 'matrix' in transform:\n",
    "            transform = transform[transform.index('(') + 1 : transform.index(')')]\n",
    "            transformMatrix = [float(v) for v in transform.split(',')]\n",
    "        elif 'translate' in transform:\n",
    "            transform = transform[transform.index('(') + 1 : transform.index(')')]\n",
    "            transformMatrix = [1, 0, 0, 1] + [float(v) for v in transform.split(',')]\n",
    "        \n",
    "    circles = []\n",
    "    for child in groupElement:\n",
    "        tag = tagFromElement(child)\n",
    "        circle = None\n",
    "        if tag == 'circle':\n",
    "            circle = (getFloat(child, 'cx'), getFloat(child, 'cy'), getFloat(child, 'r'))\n",
    "        elif tag == 'ellipse':\n",
    "            assert abs(getFloat(child, 'rx') - getFloat(child, 'ry')) < 0.01\n",
    "            circle = (getFloat(child, 'cx'), getFloat(child, 'cy'), getFloat(child, 'rx'))\n",
    "        \n",
    "        if circle:\n",
    "            circles.append(applyTransform(transformMatrix, circle))\n",
    "            \n",
    "    return circles"
   ]
  },
  {
   "cell_type": "code",
   "execution_count": 7,
   "id": "a3aa74c3-14ec-4c27-9992-288660c62b3c",
   "metadata": {},
   "outputs": [
    {
     "data": {
      "text/plain": [
       "173"
      ]
     },
     "execution_count": 7,
     "metadata": {},
     "output_type": "execute_result"
    }
   ],
   "source": [
    "allGroups = []\n",
    "for child in root:\n",
    "    group = groupToCircles(child)\n",
    "    if len(group) > 0:\n",
    "        allGroups.append(group)\n",
    "len(allGroups)"
   ]
  },
  {
   "cell_type": "code",
   "execution_count": 8,
   "id": "ee3b14ad-ad37-4b98-970b-a0d018e3c51f",
   "metadata": {},
   "outputs": [],
   "source": [
    "scale = 3\n",
    "padding = 20\n",
    "\n",
    "transformMatrix = [scale, 0, 0, scale, padding, padding]\n",
    "\n",
    "for g in range(len(allGroups)):\n",
    "    for c in range(len(allGroups[g])):\n",
    "        allGroups[g][c] = applyTransform(transformMatrix, allGroups[g][c])"
   ]
  },
  {
   "cell_type": "code",
   "execution_count": 9,
   "id": "7ef06089-7bc5-47b7-aaab-7bb107468faa",
   "metadata": {},
   "outputs": [],
   "source": [
    "def getSize(circleGroups):\n",
    "    xRange = [-1, -1]\n",
    "    yRange = [-1, -1]\n",
    "    for g in allGroups:\n",
    "        for x, y, r in g:\n",
    "            if xRange[0] == -1 or x - r< xRange[0]:\n",
    "                xRange[0] = x - r\n",
    "            if xRange[1] == -1 or x + r > xRange[1]:\n",
    "                xRange[1] = x + r\n",
    "            if yRange[0] == -1 or y - r < yRange[0]:\n",
    "                yRange[0] = y - r\n",
    "            if yRange[1] == -1 or y + r > yRange[1]:\n",
    "                yRange[1] = y + r\n",
    "    return (xRange[1] - xRange[0], yRange[1] - yRange[0])"
   ]
  },
  {
   "cell_type": "markdown",
   "id": "5a7b3083-c0c8-4138-bf87-7a8bb165aa3c",
   "metadata": {},
   "source": [
    "# Writing to output\n",
    "Colours and style sourced from original image hosted at https://oeis.org/A250001/a250001.svg"
   ]
  },
  {
   "cell_type": "code",
   "execution_count": 10,
   "id": "57ddc121-62ce-443b-8200-7c18060ae984",
   "metadata": {},
   "outputs": [],
   "source": [
    "outputPath = \"res/n4-all.svg\"\n",
    "width, height = getSize(allGroups)\n",
    "width += 2 * padding\n",
    "height += 2 * padding\n",
    "\n",
    "with open(outputPath, 'w') as f:\n",
    "    f.write(f'<svg width=\"{width}\" height=\"{height}\" xmlns=\"http://www.w3.org/2000/svg\" version=\"1.2\" xmlns:xlink=\"http://www.w3.org/1999/xlink\">\\n')\n",
    "    f.write('\\n')\n",
    "    f.write('<!-- avg bsr 9.7 -->\\n')\n",
    "    f.write('\\n')\n",
    "    f.write('<defs>\\n')\n",
    "    f.write('  <linearGradient id=\"backColor\">\\n')\n",
    "    f.write('    <stop offset=\"0%\" stop-color=\"#9EC4BB\"/>\\n')\n",
    "    f.write('  </linearGradient>\\n')\n",
    "    f.write('  <linearGradient id=\"color1\">\\n')\n",
    "    f.write('    <stop offset=\"0%\" stop-color=\"#2D2E2C\"/>\\n')\n",
    "    f.write('  </linearGradient>\\n')\n",
    "    f.write('  <linearGradient id=\"color2\">\\n')\n",
    "    f.write('    <stop offset=\"0%\" stop-color=\"#2D2E2C\"/>\\n')\n",
    "    f.write('  </linearGradient>\\n')\n",
    "    f.write('  <linearGradient id=\"color3\">\\n')\n",
    "    f.write('    <stop offset=\"0%\" stop-color=\"#2D2E2C\"/>\\n')\n",
    "    f.write('  </linearGradient>\\n')\n",
    "    f.write('  <linearGradient id=\"color4\">\\n')\n",
    "    f.write('    <stop offset=\"0%\" stop-color=\"#2D2E2C\"/>\\n')\n",
    "    f.write('  </linearGradient>\\n')\n",
    "    f.write('  <linearGradient id=\"bloomColor\">\\n')\n",
    "    f.write('    <stop offset=\"0%\" stop-color=\"#F7DECE\"/>\\n')\n",
    "    f.write('  </linearGradient>\\n')\n",
    "    f.write('  <linearGradient id=\"stroke_color\">\\n')\n",
    "    f.write('    <stop offset=\"0%\" stop-color=\"#2D2E2C\"/>\\n')\n",
    "    f.write('  </linearGradient>\\n')\n",
    "    f.write('\\n')\n",
    "    f.write(f'  <filter id=\"theBlur\" filterUnits=\"userSpaceOnUse\" x=\"0\" y=\"0\" width=\"{width}\" height=\"{height}\">\\n')\n",
    "    f.write('    <feGaussianBlur in=\"SourceGraphic\" stdDeviation=\"45\"/>\\n')\n",
    "    f.write('  </filter>\\n')\n",
    "    f.write('\\n')\n",
    "    f.write(' <g id=\"bright\" style=\"fill:url(#bloomColor); fill-opacity:0.7\">\\n')\n",
    "    for group in allGroups:\n",
    "        for circle in group:\n",
    "            f.write(f' <circle cx=\"{circle[0]}\" cy=\"{circle[1]}\" r=\"{circle[2]}\"/>\\n')\n",
    "    f.write(' </g>\\n')\n",
    "    f.write('\\n')\n",
    "    f.write(' <g id=\"cover\" style=\"fill:url(#backColor); fill-opacity:0.85\">\\n')\n",
    "    for group in allGroups:\n",
    "        for circle in group:\n",
    "            f.write(f' <circle cx=\"{circle[0]}\" cy=\"{circle[1]}\" r=\"{circle[2]}\"/>\\n')\n",
    "    f.write(' </g>\\n')\n",
    "    f.write('\\n')\n",
    "    f.write(' <g id=\"ccfg_fill\" style=\"fill-opacity:0.05\">\\n')\n",
    "    for group in allGroups:\n",
    "        for circle in group:\n",
    "            f.write(f' <circle cx=\"{circle[0]}\" cy=\"{circle[1]}\" r=\"{circle[2]}\" fill=\"url(#color1)\"/>\\n')\n",
    "    f.write(' </g>\\n')\n",
    "    f.write('\\n')\n",
    "    f.write(' <g id=\"ccfg_stroke\" style=\"fill:none;stroke:0.5\">\\n')\n",
    "    for group in allGroups:\n",
    "        for circle in group:\n",
    "            f.write(f' <circle cx=\"{circle[0]}\" cy=\"{circle[1]}\" r=\"{circle[2]}\" stroke=\"url(#stroke_color)\"/>\\n')\n",
    "    f.write(' </g>\\n')\n",
    "    f.write('\\n')\n",
    "    f.write('</defs>\\n')\n",
    "    f.write('\\n')\n",
    "    f.write(f'<rect x=\"0\" y=\"0\" width=\"{width}\" height=\"{height}\" style=\"fill:url(#backColor)\"/>\\n')\n",
    "    f.write('<g>\\n')\n",
    "    f.write('\\n')\n",
    "    f.write('  <use xlink:href=\"#bright\" filter=\"url(#theBlur)\"/>\\n')\n",
    "    f.write('  <use xlink:href=\"#cover\"/>\\n')\n",
    "    f.write('  <use xlink:href=\"#ccfg_fill\"/>\\n')\n",
    "    f.write('  <use xlink:href=\"#ccfg_stroke\"/>\\n')\n",
    "    f.write('</g>\\n')\n",
    "    f.write('\\n')\n",
    "    f.write('</svg>\\n')\n",
    "\n",
    "    "
   ]
  },
  {
   "cell_type": "code",
   "execution_count": 11,
   "id": "2f40c35f-d031-4380-9499-370022aed0b5",
   "metadata": {},
   "outputs": [],
   "source": [
    "csvOutputPath = 'res/n4-all.csv'\n",
    "\n",
    "with open(csvOutputPath, 'w') as f:\n",
    "    for group in allGroups:\n",
    "        for x, y, r in group:\n",
    "            f.write(f\"{x},{y},{r}\\n\")"
   ]
  }
 ],
 "metadata": {
  "kernelspec": {
   "display_name": "Python 3 (ipykernel)",
   "language": "python",
   "name": "python3"
  },
  "language_info": {
   "codemirror_mode": {
    "name": "ipython",
    "version": 3
   },
   "file_extension": ".py",
   "mimetype": "text/x-python",
   "name": "python",
   "nbconvert_exporter": "python",
   "pygments_lexer": "ipython3",
   "version": "3.13.5"
  }
 },
 "nbformat": 4,
 "nbformat_minor": 5
}
